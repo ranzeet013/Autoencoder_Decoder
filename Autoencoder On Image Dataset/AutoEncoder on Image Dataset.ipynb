{
 "cells": [
  {
   "cell_type": "markdown",
   "id": "6e0889e7",
   "metadata": {},
   "source": [
    "# Importing Libraries"
   ]
  },
  {
   "cell_type": "markdown",
   "id": "45478b44",
   "metadata": {},
   "source": [
    "Importing libraries is an essential step in any data analysis or machine learning project. These libraries provide various functions and tools to manipulate, visualize, and analyze data efficiently. Here are explanations of some popular data analysis libraries:"
   ]
  },
  {
   "cell_type": "markdown",
   "id": "c000b5a8",
   "metadata": {},
   "source": [
    "Pandas: Pandas is a powerful and widely used library for data manipulation and analysis. It provides data structures like DataFrames and Series, which allow you to store and manipulate tabular data. Pandas offers a wide range of functions for data cleaning, filtering, aggregation, merging, and more."
   ]
  },
  {
   "cell_type": "markdown",
   "id": "6f14ace6",
   "metadata": {},
   "source": [
    "NumPy: NumPy (Numerical Python) is a fundamental library for scientific computing in Python. It provides efficient data structures like arrays and matrices and a vast collection of mathematical functions. NumPy enables you to perform various numerical operations on large datasets, such as element-wise calculations, linear algebra, Fourier transforms, and random number generation."
   ]
  },
  {
   "cell_type": "markdown",
   "id": "20abf557",
   "metadata": {},
   "source": [
    "Matplotlib: Matplotlib is a popular plotting library that enables you to create a wide range of static, animated, and interactive visualizations. It provides a MATLAB-like interface and supports various types of plots, including line plots, scatter plots, bar plots, histograms, and more. "
   ]
  },
  {
   "cell_type": "code",
   "execution_count": 1,
   "id": "0e69d00d",
   "metadata": {},
   "outputs": [],
   "source": [
    "import pandas as pd\n",
    "import numpy as np\n",
    "import matplotlib.pyplot as plt\n",
    "import seaborn as sns"
   ]
  },
  {
   "cell_type": "code",
   "execution_count": 2,
   "id": "ff14e2ae",
   "metadata": {},
   "outputs": [],
   "source": [
    "import warnings\n",
    "warnings.filterwarnings('ignore')"
   ]
  },
  {
   "cell_type": "markdown",
   "id": "e1d93951",
   "metadata": {},
   "source": [
    "# Importing MNIST Dataset From keras.datasets"
   ]
  },
  {
   "cell_type": "code",
   "execution_count": 3,
   "id": "d055603f",
   "metadata": {},
   "outputs": [],
   "source": [
    "from tensorflow.keras.datasets import mnist"
   ]
  },
  {
   "cell_type": "markdown",
   "id": "baffe8f9",
   "metadata": {},
   "source": [
    "# Splitting Dataset"
   ]
  },
  {
   "cell_type": "markdown",
   "id": "3eb8d81c",
   "metadata": {},
   "source": [
    "Splitting a dataset is the process of dividing it into separate subsets for training, validation, and testing. Here's a the common ways to split a dataset:"
   ]
  },
  {
   "cell_type": "markdown",
   "id": "267a37c1",
   "metadata": {},
   "source": [
    "Train-Test Split: In some cases, a separate validation set may not be necessary. Instead, the dataset is split into a training set and a test set only. The training set is used for model training, and the test set is used for final model evaluation. The split ratio is usually around 80-90% for training and 10-20% for testing."
   ]
  },
  {
   "cell_type": "code",
   "execution_count": 4,
   "id": "bb3c9417",
   "metadata": {},
   "outputs": [],
   "source": [
    "(x_train, y_train), (x_test, y_test) = mnist.load_data()"
   ]
  },
  {
   "cell_type": "code",
   "execution_count": 5,
   "id": "5cb95896",
   "metadata": {},
   "outputs": [
    {
     "data": {
      "text/plain": [
       "((60000, 28, 28), (60000,), (10000, 28, 28), (10000,))"
      ]
     },
     "execution_count": 5,
     "metadata": {},
     "output_type": "execute_result"
    }
   ],
   "source": [
    "x_train.shape, y_train.shape, x_test.shape, y_test.shape"
   ]
  },
  {
   "cell_type": "code",
   "execution_count": 6,
   "id": "1d0ae49f",
   "metadata": {},
   "outputs": [
    {
     "data": {
      "text/plain": [
       "<matplotlib.image.AxesImage at 0x1bb3a7c8460>"
      ]
     },
     "execution_count": 6,
     "metadata": {},
     "output_type": "execute_result"
    },
    {
     "data": {
      "image/png": "[encoded data removed]",
      "text/plain": [
       "<Figure size 432x288 with 1 Axes>"
      ]
     },
     "metadata": {
      "needs_background": "light"
     },
     "output_type": "display_data"
    }
   ],
   "source": [
    "plt.imshow(x_train[3])"
   ]
  },
  {
   "cell_type": "code",
   "execution_count": 7,
   "id": "775a4476",
   "metadata": {},
   "outputs": [
    {
     "data": {
      "text/plain": [
       "0"
      ]
     },
     "execution_count": 7,
     "metadata": {},
     "output_type": "execute_result"
    }
   ],
   "source": [
    "x_train.min()"
   ]
  },
  {
   "cell_type": "code",
   "execution_count": 8,
   "id": "4251b7c2",
   "metadata": {},
   "outputs": [
    {
     "data": {
      "text/plain": [
       "255"
      ]
     },
     "execution_count": 8,
     "metadata": {},
     "output_type": "execute_result"
    }
   ],
   "source": [
    "x_train.max()"
   ]
  },
  {
   "cell_type": "code",
   "execution_count": 9,
   "id": "5218b0cf",
   "metadata": {},
   "outputs": [],
   "source": [
    "x_train = x_train / 255\n",
    "x_test = x_test / 225"
   ]
  },
  {
   "cell_type": "markdown",
   "id": "e79692d4",
   "metadata": {},
   "source": [
    "# Importing Deep Learning Libraries"
   ]
  },
  {
   "cell_type": "markdown",
   "id": "1aeedd33",
   "metadata": {},
   "source": [
    "Importing deep learning libraries allows you to access and utilize their functionalities and APIs for building, training, and evaluating deep learning models. Here's a of some popular deep learning libraries:"
   ]
  },
  {
   "cell_type": "markdown",
   "id": "cf9bd3d8",
   "metadata": {},
   "source": [
    "TensorFlow: TensorFlow is an open-source deep learning library developed by Google. It provides a flexible and comprehensive ecosystem for building and training various types of neural networks. TensorFlow uses a symbolic dataflow graph to define and execute computational operations, making it efficient for both research and production use cases"
   ]
  },
  {
   "cell_type": "code",
   "execution_count": 11,
   "id": "12c594ae",
   "metadata": {},
   "outputs": [],
   "source": [
    "from tensorflow.keras.models import Sequential\n",
    "from tensorflow.keras.layers import Dense, Flatten, Reshape\n",
    "from tensorflow.keras.optimizers import SGD"
   ]
  },
  {
   "cell_type": "markdown",
   "id": "26ff828a",
   "metadata": {},
   "source": [
    "# Building Encoder Model"
   ]
  },
  {
   "cell_type": "markdown",
   "id": "839ee75f",
   "metadata": {},
   "source": [
    "Creating a deep learning model involves defining the architecture and structure of the neural network, specifying the layers, and configuring the parameters for training."
   ]
  },
  {
   "cell_type": "markdown",
   "id": "d7b68725",
   "metadata": {},
   "source": [
    "To build an encoder model, you can use a convolutional neural network (CNN) architecture. The encoder's role is to extract relevant features from the input data."
   ]
  },
  {
   "cell_type": "code",
   "execution_count": 14,
   "id": "516b57cd",
   "metadata": {},
   "outputs": [],
   "source": [
    "encoder = Sequential()\n",
    "encoder.add(Flatten(input_shape = [28, 28]))\n",
    "encoder.add(Dense(400, activation = 'relu'))\n",
    "encoder.add(Dense(200, activation = 'relu'))\n",
    "encoder.add(Dense(100, activation = 'relu'))\n",
    "encoder.add(Dense(50, activation = 'relu'))\n",
    "encoder.add(Dense(25, activation = 'relu'))"
   ]
  },
  {
   "cell_type": "markdown",
   "id": "ba96f129",
   "metadata": {},
   "source": [
    "# Building Decoder Model"
   ]
  },
  {
   "cell_type": "code",
   "execution_count": 16,
   "id": "3de05321",
   "metadata": {},
   "outputs": [],
   "source": [
    "decoder = Sequential()\n",
    "decoder.add(Dense(50, input_shape = [25], activation = 'relu'))\n",
    "decoder.add(Dense(100, activation = 'relu'))\n",
    "decoder.add(Dense(200, activation = 'relu'))\n",
    "decoder.add(Dense(100, activation = 'relu'))\n",
    "decoder.add(Dense(28*28, activation = 'sigmoid'))\n",
    "decoder.add(Reshape([28, 28]))"
   ]
  },
  {
   "cell_type": "code",
   "execution_count": 17,
   "id": "89bf8139",
   "metadata": {},
   "outputs": [],
   "source": [
    "autoencoder = Sequential([encoder, decoder])"
   ]
  },
  {
   "cell_type": "markdown",
   "id": "cc7faf5e",
   "metadata": {},
   "source": [
    "# Compiling Model"
   ]
  },
  {
   "cell_type": "markdown",
   "id": "84943b8d",
   "metadata": {},
   "source": [
    "Compiling a model in deep learning involves configuring the training process by specifying the optimizer, loss function, and metrics to be used. The compilation step is necessary before training the model."
   ]
  },
  {
   "cell_type": "code",
   "execution_count": 18,
   "id": "2cdc5512",
   "metadata": {},
   "outputs": [],
   "source": [
    "autoencoder.compile(optimizer = SGD(lr = 1.5), loss = 'binary_crossentropy', metrics = ['accuracy'])"
   ]
  },
  {
   "cell_type": "markdown",
   "id": "184ba1fc",
   "metadata": {},
   "source": [
    "# Training The Model"
   ]
  },
  {
   "cell_type": "markdown",
   "id": "77be1ac6",
   "metadata": {},
   "source": [
    "Training a deep learning model involves iteratively updating the model's parameters or weights using a training dataset. The process aims to minimize the loss function by adjusting the model's parameters through an optimization algorithm."
   ]
  },
  {
   "cell_type": "code",
   "execution_count": 20,
   "id": "86faf51d",
   "metadata": {},
   "outputs": [
    {
     "name": "stdout",
     "output_type": "stream",
     "text": [
      "Epoch 1/10\n",
      "1875/1875 [==============================] - 48s 22ms/step - loss: 0.2538 - accuracy: 0.0834 - val_loss: 0.2300 - val_accuracy: 0.1064\n",
      "Epoch 2/10\n",
      "1875/1875 [==============================] - 38s 20ms/step - loss: 0.2004 - accuracy: 0.1408 - val_loss: 0.1867 - val_accuracy: 0.1515\n",
      "Epoch 3/10\n",
      "1875/1875 [==============================] - 40s 21ms/step - loss: 0.1675 - accuracy: 0.1821 - val_loss: 0.1371 - val_accuracy: 0.1949\n",
      "Epoch 4/10\n",
      "1875/1875 [==============================] - 34s 18ms/step - loss: 0.1515 - accuracy: 0.2048 - val_loss: 0.1280 - val_accuracy: 0.2128\n",
      "Epoch 5/10\n",
      "1875/1875 [==============================] - 42s 23ms/step - loss: 0.1428 - accuracy: 0.2178 - val_loss: 0.1153 - val_accuracy: 0.2222\n",
      "Epoch 6/10\n",
      "1875/1875 [==============================] - 35s 19ms/step - loss: 0.1365 - accuracy: 0.2266 - val_loss: 0.1083 - val_accuracy: 0.2190\n",
      "Epoch 7/10\n",
      "1875/1875 [==============================] - 45s 24ms/step - loss: 0.1313 - accuracy: 0.2345 - val_loss: 0.1037 - val_accuracy: 0.2282\n",
      "Epoch 8/10\n",
      "1875/1875 [==============================] - 36s 19ms/step - loss: 0.1277 - accuracy: 0.2400 - val_loss: 0.0988 - val_accuracy: 0.2373\n",
      "Epoch 9/10\n",
      "1875/1875 [==============================] - 37s 20ms/step - loss: 0.1252 - accuracy: 0.2435 - val_loss: 0.0963 - val_accuracy: 0.2488\n",
      "Epoch 10/10\n",
      "1875/1875 [==============================] - 37s 19ms/step - loss: 0.1232 - accuracy: 0.2470 - val_loss: 0.0922 - val_accuracy: 0.2401\n"
     ]
    },
    {
     "data": {
      "text/plain": [
       "<keras.callbacks.History at 0x1bb360f73d0>"
      ]
     },
     "execution_count": 20,
     "metadata": {},
     "output_type": "execute_result"
    }
   ],
   "source": [
    "autoencoder.fit(x_train,\n",
    "                x_train, \n",
    "                validation_data = (x_test, x_test),\n",
    "                epochs = 10)"
   ]
  },
  {
   "cell_type": "code",
   "execution_count": 21,
   "id": "137b7363",
   "metadata": {},
   "outputs": [],
   "source": [
    "loss = pd.DataFrame(autoencoder.history.history)"
   ]
  },
  {
   "cell_type": "code",
   "execution_count": 22,
   "id": "8d1da98f",
   "metadata": {},
   "outputs": [
    {
     "data": {
      "text/plain": [
       "<AxesSubplot:>"
      ]
     },
     "execution_count": 22,
     "metadata": {},
     "output_type": "execute_result"
    },
    {
     "data": {
      "image/png": "[encoded data removed]",
      "text/plain": [
       "<Figure size 432x288 with 1 Axes>"
      ]
     },
     "metadata": {
      "needs_background": "light"
     },
     "output_type": "display_data"
    }
   ],
   "source": [
    "loss.plot()"
   ]
  },
  {
   "cell_type": "markdown",
   "id": "091e4bcc",
   "metadata": {},
   "source": [
    "# Predicting on dataset"
   ]
  },
  {
   "cell_type": "code",
   "execution_count": 23,
   "id": "4c9ce028",
   "metadata": {},
   "outputs": [
    {
     "name": "stdout",
     "output_type": "stream",
     "text": [
      "1/1 [==============================] - 1s 562ms/step\n"
     ]
    }
   ],
   "source": [
    "encoded_image = autoencoder.predict(x_test[:5])"
   ]
  },
  {
   "cell_type": "code",
   "execution_count": 25,
   "id": "dc8d5658",
   "metadata": {},
   "outputs": [
    {
     "data": {
      "text/plain": [
       "<matplotlib.image.AxesImage at 0x1bb36cf8790>"
      ]
     },
     "execution_count": 25,
     "metadata": {},
     "output_type": "execute_result"
    },
    {
     "data": {
      "image/png": "[encoded data removed]",
      "text/plain": [
       "<Figure size 432x288 with 1 Axes>"
      ]
     },
     "metadata": {
      "needs_background": "light"
     },
     "output_type": "display_data"
    }
   ],
   "source": [
    "plt.imshow(encoded_image[4])"
   ]
  },
  {
   "cell_type": "code",
   "execution_count": 26,
   "id": "cae9237f",
   "metadata": {},
   "outputs": [
    {
     "data": {
      "text/plain": [
       "<matplotlib.image.AxesImage at 0x1bb36d3eb90>"
      ]
     },
     "execution_count": 26,
     "metadata": {},
     "output_type": "execute_result"
    },
    {
     "data": {
      "image/png": "[encoded data removed]",
      "text/plain": [
       "<Figure size 432x288 with 1 Axes>"
      ]
     },
     "metadata": {
      "needs_background": "light"
     },
     "output_type": "display_data"
    }
   ],
   "source": [
    "plt.imshow(x_test[4])"
   ]
  },
  {
   "cell_type": "markdown",
   "id": "079a7a60",
   "metadata": {},
   "source": [
    "# Denoising Images"
   ]
  },
  {
   "cell_type": "markdown",
   "id": "10df97d0",
   "metadata": {},
   "source": [
    "Gaussian noise, also known as white noise or Gaussian white noise, is a type of random noise that follows a Gaussian distribution. It is characterized by its mean and standard deviation, which determine the center and spread of the distribution, respectively. Gaussian noise is commonly used in various fields, including signal processing and machine learning, for different purposes such as data augmentation, regularization, or modeling uncertainty."
   ]
  },
  {
   "cell_type": "code",
   "execution_count": 28,
   "id": "b73d0093",
   "metadata": {},
   "outputs": [],
   "source": [
    "from tensorflow.keras.layers import GaussianNoise"
   ]
  },
  {
   "cell_type": "code",
   "execution_count": 29,
   "id": "8e6ac488",
   "metadata": {},
   "outputs": [],
   "source": [
    "sample = GaussianNoise(0.2)"
   ]
  },
  {
   "cell_type": "code",
   "execution_count": 31,
   "id": "d6a5f28c",
   "metadata": {},
   "outputs": [],
   "source": [
    "noisey = sample(x_test[0:2], training = True)"
   ]
  },
  {
   "cell_type": "code",
   "execution_count": 32,
   "id": "7b9cb487",
   "metadata": {},
   "outputs": [
    {
     "data": {
      "text/plain": [
       "<tf.Tensor: shape=(2, 28, 28), dtype=float32, numpy=\n",
       "array([[[-0.30564865,  0.02565729, -0.1192122 , ..., -0.5578154 ,\n",
       "         -0.0221911 ,  0.27747524],\n",
       "        [ 0.18239322,  0.16188784,  0.03723134, ...,  0.12992612,\n",
       "          0.26944754,  0.1251676 ],\n",
       "        [ 0.18285845,  0.0812341 ,  0.21501994, ..., -0.07960781,\n",
       "         -0.14415126, -0.12916797],\n",
       "        ...,\n",
       "        [ 0.24536704,  0.23620653,  0.06100739, ..., -0.29674038,\n",
       "         -0.24893601,  0.27954087],\n",
       "        [-0.3580623 ,  0.25139275,  0.09399603, ...,  0.3033813 ,\n",
       "         -0.06592827,  0.19079114],\n",
       "        [ 0.27074414,  0.28805283,  0.09576111, ...,  0.00521929,\n",
       "          0.08494842, -0.24725862]],\n",
       "\n",
       "       [[ 0.05969985, -0.05036345, -0.39475965, ..., -0.16205858,\n",
       "         -0.31321442,  0.1485771 ],\n",
       "        [ 0.07418235, -0.10905349, -0.04191795, ..., -0.20208135,\n",
       "          0.07315882,  0.00589004],\n",
       "        [-0.20127232,  0.02933077,  0.21194677, ...,  0.35620245,\n",
       "         -0.01737065,  0.14720605],\n",
       "        ...,\n",
       "        [-0.35271433, -0.1985764 , -0.17497459, ..., -0.05444482,\n",
       "         -0.00220335, -0.18279456],\n",
       "        [ 0.15233085,  0.07462157, -0.08226159, ..., -0.05599743,\n",
       "          0.31966978, -0.13318422],\n",
       "        [ 0.15924947,  0.26562852, -0.3008788 , ..., -0.06521537,\n",
       "          0.24600308, -0.183924  ]]], dtype=float32)>"
      ]
     },
     "execution_count": 32,
     "metadata": {},
     "output_type": "execute_result"
    }
   ],
   "source": [
    "noisey"
   ]
  },
  {
   "cell_type": "code",
   "execution_count": 38,
   "id": "6a4c8f3a",
   "metadata": {},
   "outputs": [
    {
     "data": {
      "text/plain": [
       "<matplotlib.image.AxesImage at 0x1bb3763f910>"
      ]
     },
     "execution_count": 38,
     "metadata": {},
     "output_type": "execute_result"
    },
    {
     "data": {
      "image/png": "[encoded data removed]",
      "text/plain": [
       "<Figure size 432x288 with 1 Axes>"
      ]
     },
     "metadata": {
      "needs_background": "light"
     },
     "output_type": "display_data"
    }
   ],
   "source": [
    "plt.imshow(x_test[1])"
   ]
  },
  {
   "cell_type": "code",
   "execution_count": 39,
   "id": "6dd5aba9",
   "metadata": {},
   "outputs": [
    {
     "data": {
      "text/plain": [
       "<matplotlib.image.AxesImage at 0x1bb56485f60>"
      ]
     },
     "execution_count": 39,
     "metadata": {},
     "output_type": "execute_result"
    },
    {
     "data": {
      "image/png": "[encoded data removed]",
      "text/plain": [
       "<Figure size 432x288 with 1 Axes>"
      ]
     },
     "metadata": {
      "needs_background": "light"
     },
     "output_type": "display_data"
    }
   ],
   "source": [
    "plt.imshow(noisey[1])"
   ]
  },
  {
   "cell_type": "code",
   "execution_count": null,
   "id": "ca00c9b9",
   "metadata": {},
   "outputs": [],
   "source": []
  }
 ],
 "metadata": {
  "kernelspec": {
   "display_name": "Python 3 (ipykernel)",
   "language": "python",
   "name": "python3"
  },
  "language_info": {
   "codemirror_mode": {
    "name": "ipython",
    "version": 3
   },
   "file_extension": ".py",
   "mimetype": "text/x-python",
   "name": "python",
   "nbconvert_exporter": "python",
   "pygments_lexer": "ipython3",
   "version": "3.10.9"
  }
 },
 "nbformat": 4,
 "nbformat_minor": 5
}
