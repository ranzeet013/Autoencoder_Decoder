{
 "cells": [
  {
   "cell_type": "markdown",
   "id": "cf757766",
   "metadata": {},
   "source": [
    "# Importing Libraries"
   ]
  },
  {
   "cell_type": "markdown",
   "id": "34b0f05c",
   "metadata": {},
   "source": [
    "Importing libraries is the process of loading external code libraries into your Python program to access their pre-defined functions, classes, and other resources. Libraries are collections of code that provide additional functionality beyond what is available in the core Python language."
   ]
  },
  {
   "cell_type": "code",
   "execution_count": 19,
   "id": "a0e229e8",
   "metadata": {},
   "outputs": [],
   "source": [
    "import pandas as pd\n",
    "import numpy as np\n",
    "import matplotlib.pyplot as plt\n",
    "import seaborn as sns\n",
    "import tensorflow as tf"
   ]
  },
  {
   "cell_type": "code",
   "execution_count": 3,
   "id": "c48feed9",
   "metadata": {},
   "outputs": [],
   "source": [
    "import warnings\n",
    "warnings.filterwarnings('ignore')"
   ]
  },
  {
   "cell_type": "markdown",
   "id": "2e3ee551",
   "metadata": {},
   "source": [
    "# Loading MNIST Data From keras.datasets "
   ]
  },
  {
   "cell_type": "code",
   "execution_count": 4,
   "id": "0b9e8a06",
   "metadata": {},
   "outputs": [],
   "source": [
    "from tensorflow.keras.datasets import mnist"
   ]
  },
  {
   "cell_type": "markdown",
   "id": "4435851d",
   "metadata": {},
   "source": [
    "# Splitting Dataset"
   ]
  },
  {
   "cell_type": "markdown",
   "id": "8641d502",
   "metadata": {},
   "source": [
    "Train-Test Split: In some cases, a separate validation set may not be necessary. Instead, the dataset is split into a training set and a test set only. The training set is used for model training, and the test set is used for final model evaluation. The split ratio is usually around 80-90% for training and 10-20% for testing."
   ]
  },
  {
   "cell_type": "code",
   "execution_count": 5,
   "id": "4435107c",
   "metadata": {},
   "outputs": [],
   "source": [
    "(x_train, y_train), (x_test, y_test) = mnist.load_data()"
   ]
  },
  {
   "cell_type": "code",
   "execution_count": 7,
   "id": "678ba012",
   "metadata": {},
   "outputs": [
    {
     "data": {
      "text/plain": [
       "((60000, 28, 28), (60000,), (10000, 28, 28), (10000,))"
      ]
     },
     "execution_count": 7,
     "metadata": {},
     "output_type": "execute_result"
    }
   ],
   "source": [
    "x_train.shape, y_train.shape, x_test.shape, y_test.shape"
   ]
  },
  {
   "cell_type": "code",
   "execution_count": 8,
   "id": "5e22d658",
   "metadata": {},
   "outputs": [
    {
     "data": {
      "text/plain": [
       "<matplotlib.image.AxesImage at 0x29e0ea3f1c0>"
      ]
     },
     "execution_count": 8,
     "metadata": {},
     "output_type": "execute_result"
    },
    {
     "data": {
      "image/png": "[encoded data removed]",
      "text/plain": [
       "<Figure size 432x288 with 1 Axes>"
      ]
     },
     "metadata": {
      "needs_background": "light"
     },
     "output_type": "display_data"
    }
   ],
   "source": [
    "plt.imshow(x_train[5])"
   ]
  },
  {
   "cell_type": "code",
   "execution_count": 9,
   "id": "9342268c",
   "metadata": {},
   "outputs": [
    {
     "data": {
      "text/plain": [
       "255"
      ]
     },
     "execution_count": 9,
     "metadata": {},
     "output_type": "execute_result"
    }
   ],
   "source": [
    "x_train.max()"
   ]
  },
  {
   "cell_type": "code",
   "execution_count": 10,
   "id": "ac182435",
   "metadata": {},
   "outputs": [],
   "source": [
    "x_train = x_train / 225\n",
    "x_test = x_test / 225"
   ]
  },
  {
   "cell_type": "markdown",
   "id": "b4e0e4e3",
   "metadata": {},
   "source": [
    "# Noising Image "
   ]
  },
  {
   "cell_type": "markdown",
   "id": "5b82120a",
   "metadata": {},
   "source": [
    "Gaussian noise, also known as white noise or Gaussian white noise, is a type of random noise that follows a Gaussian distribution. It is characterized by its mean and standard deviation, which determine the center and spread of the distribution, respectively. Gaussian noise is commonly used in various fields, including signal processing and machine learning, for different purposes such as data augmentation, regularization, or modeling uncertainty."
   ]
  },
  {
   "cell_type": "code",
   "execution_count": 12,
   "id": "bebe602c",
   "metadata": {},
   "outputs": [],
   "source": [
    "from tensorflow.keras.layers import GaussianNoise"
   ]
  },
  {
   "cell_type": "code",
   "execution_count": 13,
   "id": "0d2b83f8",
   "metadata": {},
   "outputs": [],
   "source": [
    "sample = GaussianNoise(0.2)"
   ]
  },
  {
   "cell_type": "code",
   "execution_count": 14,
   "id": "39d78541",
   "metadata": {},
   "outputs": [],
   "source": [
    "noisey = sample(x_test[0:2], training = True)"
   ]
  },
  {
   "cell_type": "code",
   "execution_count": 15,
   "id": "2cc67718",
   "metadata": {},
   "outputs": [
    {
     "data": {
      "text/plain": [
       "<tf.Tensor: shape=(2, 28, 28), dtype=float32, numpy=\n",
       "array([[[ 0.17568888, -0.0068989 ,  0.10016584, ...,  0.23115735,\n",
       "         -0.14074574, -0.18113177],\n",
       "        [-0.06216424, -0.07719724, -0.17240037, ..., -0.24937606,\n",
       "          0.09171267, -0.13894923],\n",
       "        [ 0.04694651,  0.17121993,  0.00613067, ...,  0.17659989,\n",
       "         -0.14833558, -0.05299523],\n",
       "        ...,\n",
       "        [-0.34468627,  0.16208032, -0.0372215 , ...,  0.06575283,\n",
       "         -0.01870303,  0.16086145],\n",
       "        [ 0.28640658, -0.1320241 , -0.07333892, ...,  0.3306883 ,\n",
       "          0.20433633, -0.36546668],\n",
       "        [-0.09631152, -0.01175311, -0.16452102, ...,  0.1532666 ,\n",
       "         -0.01110559, -0.11441176]],\n",
       "\n",
       "       [[-0.10205957, -0.04833769, -0.6616196 , ..., -0.07933009,\n",
       "          0.17844288,  0.18352564],\n",
       "        [-0.1455951 ,  0.11208307, -0.03053328, ...,  0.10678067,\n",
       "         -0.10366868, -0.079958  ],\n",
       "        [-0.2697392 ,  0.28325018,  0.03099298, ...,  0.1663203 ,\n",
       "         -0.06611864,  0.20843104],\n",
       "        ...,\n",
       "        [-0.33467123, -0.3176987 , -0.21229659, ..., -0.1248835 ,\n",
       "         -0.12448319,  0.27748004],\n",
       "        [-0.03238001, -0.33083007, -0.3792148 , ...,  0.01805194,\n",
       "          0.01611419,  0.2588599 ],\n",
       "        [-0.16697012, -0.01170554,  0.08427196, ..., -0.11370943,\n",
       "          0.0562424 ,  0.44430834]]], dtype=float32)>"
      ]
     },
     "execution_count": 15,
     "metadata": {},
     "output_type": "execute_result"
    }
   ],
   "source": [
    "noisey"
   ]
  },
  {
   "cell_type": "code",
   "execution_count": 17,
   "id": "55e10d1d",
   "metadata": {},
   "outputs": [
    {
     "data": {
      "text/plain": [
       "<matplotlib.image.AxesImage at 0x29e0eb34be0>"
      ]
     },
     "execution_count": 17,
     "metadata": {},
     "output_type": "execute_result"
    },
    {
     "data": {
      "image/png": "[encoded data removed]",
      "text/plain": [
       "<Figure size 432x288 with 1 Axes>"
      ]
     },
     "metadata": {
      "needs_background": "light"
     },
     "output_type": "display_data"
    }
   ],
   "source": [
    "plt.imshow(x_test[1])"
   ]
  },
  {
   "cell_type": "code",
   "execution_count": 18,
   "id": "ad8fc7bc",
   "metadata": {},
   "outputs": [
    {
     "data": {
      "text/plain": [
       "<matplotlib.image.AxesImage at 0x29e0eb7ee30>"
      ]
     },
     "execution_count": 18,
     "metadata": {},
     "output_type": "execute_result"
    },
    {
     "data": {
      "image/png": "[encoded data removed]",
      "text/plain": [
       "<Figure size 432x288 with 1 Axes>"
      ]
     },
     "metadata": {
      "needs_background": "light"
     },
     "output_type": "display_data"
    }
   ],
   "source": [
    "plt.imshow(noisey[1])"
   ]
  },
  {
   "cell_type": "code",
   "execution_count": 20,
   "id": "26fc78d9",
   "metadata": {},
   "outputs": [],
   "source": [
    "tf.random.set_seed = 101\n",
    "np.random_seed = 101"
   ]
  },
  {
   "cell_type": "code",
   "execution_count": 22,
   "id": "a305c15c",
   "metadata": {},
   "outputs": [],
   "source": [
    "from tensorflow.keras.models import Sequential\n",
    "from tensorflow.keras.layers import Dense, Flatten, Reshape"
   ]
  },
  {
   "cell_type": "markdown",
   "id": "e1f6b1ce",
   "metadata": {},
   "source": [
    "# Building Encoder Model"
   ]
  },
  {
   "cell_type": "markdown",
   "id": "e8b78266",
   "metadata": {},
   "source": [
    "Creating a deep learning model involves defining the architecture and structure of the neural network, specifying the layers, and configuring the parameters for training.\n",
    "To build an encoder model, you can use a convolutional neural network (CNN) architecture. The encoder's role is to extract relevant features from the input data."
   ]
  },
  {
   "cell_type": "code",
   "execution_count": 23,
   "id": "6902fae3",
   "metadata": {},
   "outputs": [],
   "source": [
    "encoder = Sequential()\n",
    "encoder.add(GaussianNoise(0.2))\n",
    "encoder.add(Flatten(input_shape = (28, 28)))\n",
    "encoder.add(Dense(400, activation = 'relu'))\n",
    "encoder.add(Dense(200, activation = 'relu'))\n",
    "encoder.add(Dense(100, activation = 'relu'))\n",
    "encoder.add(Dense(50, activation = 'relu'))\n",
    "encoder.add(Dense(25, activation = 'relu'))"
   ]
  },
  {
   "cell_type": "code",
   "execution_count": 28,
   "id": "288ba7c7",
   "metadata": {},
   "outputs": [],
   "source": [
    "decoder = Sequential()\n",
    "decoder.add(Dense(50, input_shape = [25], activation = 'relu'))\n",
    "decoder.add(Dense(100, activation = 'relu'))\n",
    "decoder.add(Dense(200, activation = 'relu'))\n",
    "decoder.add(Dense(400, activation = 'relu'))\n",
    "decoder.add(Dense(28*28, activation = 'sigmoid'))\n",
    "decoder.add(Reshape([28, 28]))"
   ]
  },
  {
   "cell_type": "code",
   "execution_count": 29,
   "id": "a0b258ac",
   "metadata": {},
   "outputs": [],
   "source": [
    "remove_noise = Sequential([encoder, decoder])"
   ]
  },
  {
   "cell_type": "markdown",
   "id": "ed7a639a",
   "metadata": {},
   "source": [
    "# Compiling Model"
   ]
  },
  {
   "cell_type": "markdown",
   "id": "facb8214",
   "metadata": {},
   "source": [
    "Compiling a model in deep learning involves configuring the training process by specifying the optimizer, loss function, and metrics to be used. The compilation step is necessary before training the model."
   ]
  },
  {
   "cell_type": "code",
   "execution_count": 30,
   "id": "bcad0247",
   "metadata": {},
   "outputs": [],
   "source": [
    "remove_noise.compile(optimizer = 'adam', loss = 'binary_crossentropy', metrics = ['accuracy'])"
   ]
  },
  {
   "cell_type": "markdown",
   "id": "21c81e89",
   "metadata": {},
   "source": [
    "# Training Model"
   ]
  },
  {
   "cell_type": "markdown",
   "id": "2d52fa51",
   "metadata": {},
   "source": [
    "Training a deep learning model involves iteratively updating the model's parameters or weights using a training dataset. The process aims to minimize the loss function by adjusting the model's parameters through an optimization algorithm."
   ]
  },
  {
   "cell_type": "code",
   "execution_count": 31,
   "id": "2ef5ce3b",
   "metadata": {
    "scrolled": false
   },
   "outputs": [
    {
     "name": "stdout",
     "output_type": "stream",
     "text": [
      "Epoch 1/10\n",
      "1875/1875 [==============================] - 55s 26ms/step - loss: 0.1600 - accuracy: 0.1774 - val_loss: 0.1148 - val_accuracy: 0.2174\n",
      "Epoch 2/10\n",
      "1875/1875 [==============================] - 44s 23ms/step - loss: 0.1073 - accuracy: 0.2246 - val_loss: 0.0910 - val_accuracy: 0.2348\n",
      "Epoch 3/10\n",
      "1875/1875 [==============================] - 49s 26ms/step - loss: 0.0857 - accuracy: 0.2432 - val_loss: 0.0697 - val_accuracy: 0.2530\n",
      "Epoch 4/10\n",
      "1875/1875 [==============================] - 40s 21ms/step - loss: 0.0752 - accuracy: 0.2529 - val_loss: 0.0632 - val_accuracy: 0.2572\n",
      "Epoch 5/10\n",
      "1875/1875 [==============================] - 41s 22ms/step - loss: 0.0691 - accuracy: 0.2598 - val_loss: 0.0584 - val_accuracy: 0.2608\n",
      "Epoch 6/10\n",
      "1875/1875 [==============================] - 48s 25ms/step - loss: 0.0646 - accuracy: 0.2641 - val_loss: 0.0548 - val_accuracy: 0.2710\n",
      "Epoch 7/10\n",
      "1875/1875 [==============================] - 78s 42ms/step - loss: 0.0597 - accuracy: 0.2684 - val_loss: 0.0512 - val_accuracy: 0.2720\n",
      "Epoch 8/10\n",
      "1875/1875 [==============================] - 52s 28ms/step - loss: 0.0551 - accuracy: 0.2723 - val_loss: 0.0453 - val_accuracy: 0.2775\n",
      "Epoch 9/10\n",
      "1875/1875 [==============================] - 61s 33ms/step - loss: 0.0512 - accuracy: 0.2747 - val_loss: 0.0417 - val_accuracy: 0.2727\n",
      "Epoch 10/10\n",
      "1875/1875 [==============================] - 48s 25ms/step - loss: 0.0479 - accuracy: 0.2766 - val_loss: 0.0394 - val_accuracy: 0.2778\n"
     ]
    },
    {
     "data": {
      "text/plain": [
       "<keras.callbacks.History at 0x29e0ffc36d0>"
      ]
     },
     "execution_count": 31,
     "metadata": {},
     "output_type": "execute_result"
    }
   ],
   "source": [
    "remove_noise.fit(x_train,\n",
    "                 x_train, \n",
    "                 validation_data = (x_test, x_test),\n",
    "                 epochs = 10)"
   ]
  },
  {
   "cell_type": "code",
   "execution_count": 32,
   "id": "51964237",
   "metadata": {},
   "outputs": [],
   "source": [
    "loss = pd.DataFrame(remove_noise.history.history)"
   ]
  },
  {
   "cell_type": "code",
   "execution_count": 33,
   "id": "47c18568",
   "metadata": {},
   "outputs": [
    {
     "data": {
      "text/plain": [
       "<AxesSubplot:>"
      ]
     },
     "execution_count": 33,
     "metadata": {},
     "output_type": "execute_result"
    },
    {
     "data": {
      "image/png": "[encoded data removed]",
      "text/plain": [
       "<Figure size 432x288 with 1 Axes>"
      ]
     },
     "metadata": {
      "needs_background": "light"
     },
     "output_type": "display_data"
    }
   ],
   "source": [
    "loss.plot()"
   ]
  },
  {
   "cell_type": "code",
   "execution_count": 35,
   "id": "cde8eb54",
   "metadata": {},
   "outputs": [
    {
     "data": {
      "text/plain": [
       "<AxesSubplot:>"
      ]
     },
     "execution_count": 35,
     "metadata": {},
     "output_type": "execute_result"
    },
    {
     "data": {
      "image/png": "[encoded data removed]",
      "text/plain": [
       "<Figure size 432x288 with 1 Axes>"
      ]
     },
     "metadata": {
      "needs_background": "light"
     },
     "output_type": "display_data"
    }
   ],
   "source": [
    "loss[['loss', 'val_loss']].plot()"
   ]
  },
  {
   "cell_type": "code",
   "execution_count": 36,
   "id": "790481e8",
   "metadata": {},
   "outputs": [
    {
     "data": {
      "text/plain": [
       "<AxesSubplot:>"
      ]
     },
     "execution_count": 36,
     "metadata": {},
     "output_type": "execute_result"
    },
    {
     "data": {
      "image/png": "[encoded data removed]",
      "text/plain": [
       "<Figure size 432x288 with 1 Axes>"
      ]
     },
     "metadata": {
      "needs_background": "light"
     },
     "output_type": "display_data"
    }
   ],
   "source": [
    "loss[['accuracy', 'val_accuracy']].plot()"
   ]
  },
  {
   "cell_type": "markdown",
   "id": "f5a5fde0",
   "metadata": {},
   "source": [
    "# Denoising Image"
   ]
  },
  {
   "cell_type": "markdown",
   "id": "8f4a48d3",
   "metadata": {},
   "source": [
    "Denoising an image refers to the process of reducing or removing unwanted noise or disturbances from an image while preserving the essential details and structures. Image denoising is a common task in image processing and computer vision, and it aims to improve the visual quality and enhance the interpretability of images."
   ]
  },
  {
   "cell_type": "code",
   "execution_count": 39,
   "id": "acb8d944",
   "metadata": {},
   "outputs": [],
   "source": [
    "noise_image_top_20 = sample(x_test[0:20], training = True)"
   ]
  },
  {
   "cell_type": "code",
   "execution_count": 41,
   "id": "a29fac1a",
   "metadata": {},
   "outputs": [],
   "source": [
    "denoised = remove_noise(noise_image_top_20[0:20])"
   ]
  },
  {
   "cell_type": "code",
   "execution_count": 48,
   "id": "b8ecbd9e",
   "metadata": {},
   "outputs": [
    {
     "name": "stdout",
     "output_type": "stream",
     "text": [
      "Orgiginal Image: \n"
     ]
    },
    {
     "data": {
      "image/png": "[encoded data removed]",
      "text/plain": [
       "<Figure size 432x288 with 1 Axes>"
      ]
     },
     "metadata": {
      "needs_background": "light"
     },
     "output_type": "display_data"
    },
    {
     "name": "stdout",
     "output_type": "stream",
     "text": [
      "Noisey Image: \n"
     ]
    },
    {
     "data": {
      "image/png": "[encoded data removed]",
      "text/plain": [
       "<Figure size 432x288 with 1 Axes>"
      ]
     },
     "metadata": {
      "needs_background": "light"
     },
     "output_type": "display_data"
    },
    {
     "name": "stdout",
     "output_type": "stream",
     "text": [
      "Denoised Image: \n"
     ]
    },
    {
     "data": {
      "image/png": "[encoded data removed]",
      "text/plain": [
       "<Figure size 432x288 with 1 Axes>"
      ]
     },
     "metadata": {
      "needs_background": "light"
     },
     "output_type": "display_data"
    }
   ],
   "source": [
    "n = 1\n",
    "print(\"Orgiginal Image: \")\n",
    "plt.imshow(x_test[n])\n",
    "plt.show()\n",
    "print(\"Noisey Image: \")\n",
    "plt.imshow(noise_image_top_20[n])\n",
    "plt.show()\n",
    "print(\"Denoised Image: \")\n",
    "plt.imshow(denoised[n])\n",
    "plt.show()"
   ]
  },
  {
   "cell_type": "code",
   "execution_count": null,
   "id": "f7d5c32f",
   "metadata": {},
   "outputs": [],
   "source": []
  }
 ],
 "metadata": {
  "kernelspec": {
   "display_name": "Python 3 (ipykernel)",
   "language": "python",
   "name": "python3"
  },
  "language_info": {
   "codemirror_mode": {
    "name": "ipython",
    "version": 3
   },
   "file_extension": ".py",
   "mimetype": "text/x-python",
   "name": "python",
   "nbconvert_exporter": "python",
   "pygments_lexer": "ipython3",
   "version": "3.10.9"
  }
 },
 "nbformat": 4,
 "nbformat_minor": 5
}
